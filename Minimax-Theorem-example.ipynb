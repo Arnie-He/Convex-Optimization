{
 "cells": [
  {
   "cell_type": "code",
   "execution_count": 16,
   "metadata": {},
   "outputs": [],
   "source": [
    "import jax.numpy as jnp\n",
    "from jax import grad\n",
    "import jax.random as random\n",
    "from jax.scipy.optimize import minimize"
   ]
  },
  {
   "cell_type": "markdown",
   "metadata": {},
   "source": [
    "Define a continuous function f: X x Y -> R that is concave-convex, i.e., f(., y) is concave for fixed y and f(x, .) is convex for fixed x. "
   ]
  },
  {
   "cell_type": "code",
   "execution_count": 17,
   "metadata": {},
   "outputs": [],
   "source": [
    "# log(1 + exp(x))\n",
    "def concave_convex_fun(x, y):\n",
    "    return (y-10)**2 - (x-5)**2"
   ]
  },
  {
   "cell_type": "markdown",
   "metadata": {},
   "source": [
    "Find max_x min_y (fx,y)"
   ]
  },
  {
   "cell_type": "code",
   "execution_count": 18,
   "metadata": {},
   "outputs": [],
   "source": [
    "def max_x_min_y(x0, y0, f, num_steps=100, learning_rate=0.01):\n",
    "    x = x0\n",
    "    y = y0\n",
    "    obj_y = lambda y: f(x, y)\n",
    "    grad_obj = grad(obj_y)\n",
    "    for _ in range(num_steps):\n",
    "        y -= learning_rate * grad_obj(y)\n",
    "    obj_x = lambda x: -f(x, y)\n",
    "    grad_obj = grad(obj_x)\n",
    "    for _ in range(num_steps):\n",
    "        x -= learning_rate * grad_obj(x)\n",
    "    return -obj_x(x)"
   ]
  },
  {
   "cell_type": "markdown",
   "metadata": {},
   "source": [
    "Find min_y max_x f(x, y)"
   ]
  },
  {
   "cell_type": "code",
   "execution_count": 19,
   "metadata": {},
   "outputs": [],
   "source": [
    "def min_y_max_x(x0, y0, f, num_steps=100, learning_rate=0.01):\n",
    "    x = x0\n",
    "    y = y0\n",
    "    obj_x = lambda x: -f(x, y)\n",
    "    grad_obj = grad(obj_x)\n",
    "    for _ in range(num_steps):\n",
    "        x -= learning_rate * grad_obj(x)\n",
    "    obj_y = lambda y: f(x, y)\n",
    "    grad_obj = grad(obj_y)\n",
    "    for _ in range(num_steps):\n",
    "        y -= learning_rate * grad_obj(y)\n",
    "    return obj_y(y)"
   ]
  },
  {
   "cell_type": "code",
   "execution_count": 20,
   "metadata": {},
   "outputs": [
    {
     "name": "stdout",
     "output_type": "stream",
     "text": [
      "LHS =  1.2455012 RHS =  1.2455012\n"
     ]
    }
   ],
   "source": [
    "key = random.PRNGKey(0)\n",
    "\n",
    "x0 = random.uniform(key)\n",
    "y0 = random.uniform(key)\n",
    "\n",
    "LHS = max_x_min_y(x0, y0, concave_convex_fun)\n",
    "RHS = min_y_max_x(x0, y0, concave_convex_fun)\n",
    "\n",
    "print(\"LHS = \", LHS, \"RHS = \", RHS)"
   ]
  }
 ],
 "metadata": {
  "kernelspec": {
   "display_name": "jaxgym",
   "language": "python",
   "name": "python3"
  },
  "language_info": {
   "codemirror_mode": {
    "name": "ipython",
    "version": 3
   },
   "file_extension": ".py",
   "mimetype": "text/x-python",
   "name": "python",
   "nbconvert_exporter": "python",
   "pygments_lexer": "ipython3",
   "version": "3.9.19"
  }
 },
 "nbformat": 4,
 "nbformat_minor": 2
}
